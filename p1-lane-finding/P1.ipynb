{
 "cells": [
  {
   "cell_type": "markdown",
   "metadata": {},
   "source": [
    "# **Finding Lane Lines on the Road** \n",
    "***\n",
    "In this project, you will use the tools you learned about in the lesson to identify lane lines on the road.  You can develop your pipeline on a series of individual images, and later apply the result to a video stream (really just a series of images). Check out the video clip \"raw-lines-example.mp4\" (also contained in this repository) to see what the output should look like after using the helper functions below. \n",
    "\n",
    "Once you have a result that looks roughly like \"raw-lines-example.mp4\", you'll need to get creative and try to average and/or extrapolate the line segments you've detected to map out the full extent of the lane lines.  You can see an example of the result you're going for in the video \"P1_example.mp4\".  Ultimately, you would like to draw just one line for the left side of the lane, and one for the right.\n",
    "\n",
    "---\n",
    "Let's have a look at our first image called 'test_images/solidWhiteRight.jpg'.  Run the 2 cells below (hit Shift-Enter or the \"play\" button above) to display the image.\n",
    "\n",
    "**Note** If, at any point, you encounter frozen display windows or other confounding issues, you can always start again with a clean slate by going to the \"Kernel\" menu above and selecting \"Restart & Clear Output\".\n",
    "\n",
    "---"
   ]
  },
  {
   "cell_type": "markdown",
   "metadata": {},
   "source": [
    "**The tools you have are color selection, region of interest selection, grayscaling, Gaussian smoothing, Canny Edge Detection and Hough Tranform line detection.  You  are also free to explore and try other techniques that were not presented in the lesson.  Your goal is piece together a pipeline to detect the line segments in the image, then average/extrapolate them and draw them onto the image for display (as below).  Once you have a working pipeline, try it out on the video stream below.**\n",
    "\n",
    "---\n",
    "\n",
    "<figure>\n",
    " <img src=\"line-segments-example.jpg\" width=\"380\" alt=\"Combined Image\" />\n",
    " <figcaption>\n",
    " <p></p> \n",
    " <p style=\"text-align: center;\"> Your output should look something like this (above) after detecting line segments using the helper functions below </p> \n",
    " </figcaption>\n",
    "</figure>\n",
    " <p></p> \n",
    "<figure>\n",
    " <img src=\"laneLines_thirdPass.jpg\" width=\"380\" alt=\"Combined Image\" />\n",
    " <figcaption>\n",
    " <p></p> \n",
    " <p style=\"text-align: center;\"> Your goal is to connect/average/extrapolate line segments to get output like this</p> \n",
    " </figcaption>\n",
    "</figure>"
   ]
  },
  {
   "cell_type": "code",
   "execution_count": null,
   "metadata": {
    "collapsed": false
   },
   "outputs": [],
   "source": [
    "#importing some useful packages\n",
    "import matplotlib.pyplot as plt\n",
    "import matplotlib.image as mpimg\n",
    "import numpy as np\n",
    "import cv2\n",
    "%matplotlib inline"
   ]
  },
  {
   "cell_type": "code",
   "execution_count": null,
   "metadata": {
    "collapsed": false
   },
   "outputs": [],
   "source": [
    "#reading in an image\n",
    "image = mpimg.imread('test_images/solidWhiteRight.jpg')\n",
    "#printing out some stats and plotting\n",
    "print('This image is:', type(image), 'with dimesions:', image.shape)\n",
    "plt.imshow(image)  #call as plt.imshow(gray, cmap='gray') to show a grayscaled image"
   ]
  },
  {
   "cell_type": "markdown",
   "metadata": {},
   "source": [
    "**Some OpenCV functions (beyond those introduced in the lesson) that might be useful for this project are:**\n",
    "\n",
    "`cv2.inRange()` for color selection  \n",
    "`cv2.fillPoly()` for regions selection  \n",
    "`cv2.line()` to draw lines on an image given endpoints  \n",
    "`cv2.addWeighted()` to coadd / overlay two images\n",
    "`cv2.cvtColor()` to grayscale or change color\n",
    "`cv2.imwrite()` to output images to file  \n",
    "`cv2.bitwise_and()` to apply a mask to an image\n",
    "\n",
    "**Check out the OpenCV documentation to learn about these and discover even more awesome functionality!**"
   ]
  },
  {
   "cell_type": "markdown",
   "metadata": {},
   "source": [
    "Below are some helper functions to help get you started. They should look familiar from the lesson!"
   ]
  },
  {
   "cell_type": "code",
   "execution_count": null,
   "metadata": {
    "collapsed": false
   },
   "outputs": [],
   "source": [
    "import math\n",
    "\n",
    "def grayscale(img):\n",
    "    \"\"\"Applies the Grayscale transform\n",
    "    This will return an image with only one color channel\n",
    "    but NOTE: to see the returned image as grayscale\n",
    "    you should call plt.imshow(gray, cmap='gray')\"\"\"\n",
    "    #return cv2.cvtColor(img, cv2.COLOR_RGB2GRAY)\n",
    "    # Or use BGR2GRAY if you read an image with cv2.imread()\n",
    "    return cv2.cvtColor(img, cv2.COLOR_BGR2GRAY)\n",
    "    \n",
    "def canny(img, low_threshold, high_threshold):\n",
    "    \"\"\"Applies the Canny transform\"\"\"\n",
    "    return cv2.Canny(img, low_threshold, high_threshold)\n",
    "\n",
    "def gaussian_blur(img, kernel_size):\n",
    "    \"\"\"Applies a Gaussian Noise kernel\"\"\"\n",
    "    return cv2.GaussianBlur(img, (kernel_size, kernel_size), 0)\n",
    "\n",
    "def region_of_interest(img, vertices):\n",
    "    \"\"\"\n",
    "    Applies an image mask.\n",
    "    \n",
    "    Only keeps the region of the image defined by the polygon\n",
    "    formed from `vertices`. The rest of the image is set to black.\n",
    "    \"\"\"\n",
    "    #defining a blank mask to start with\n",
    "    mask = np.zeros_like(img)   \n",
    "    \n",
    "    #defining a 3 channel or 1 channel color to fill the mask with depending on the input image\n",
    "    if len(img.shape) > 2:\n",
    "        channel_count = img.shape[2]  # i.e. 3 or 4 depending on your image\n",
    "        ignore_mask_color = (255,) * channel_count\n",
    "    else:\n",
    "        ignore_mask_color = 255\n",
    "        \n",
    "    #filling pixels inside the polygon defined by \"vertices\" with the fill color    \n",
    "    cv2.fillPoly(mask, vertices, ignore_mask_color)\n",
    "    \n",
    "    #returning the image only where mask pixels are nonzero\n",
    "    masked_image = cv2.bitwise_and(img, mask)\n",
    "    return masked_image\n",
    " \n",
    "def draw_lines(img, lines, color=[255, 0, 0], thickness=2):\n",
    "    \"\"\"\n",
    "    NOTE: this is the function you might want to use as a starting point once you want to \n",
    "    average/extrapolate the line segments you detect to map out the full\n",
    "    extent of the lane (going from the result shown in raw-lines-example.mp4\n",
    "    to that shown in P1_example.mp4).  \n",
    "    \n",
    "    Think about things like separating line segments by their \n",
    "    slope ((y2-y1)/(x2-x1)) to decide which segments are part of the left\n",
    "    line vs. the right line.  Then, you can average the position of each of \n",
    "    the lines and extrapolate to the top and bottom of the lane.\n",
    "    \n",
    "    This function draws `lines` with `color` and `thickness`.    \n",
    "    Lines are drawn on the image inplace (mutates the image).\n",
    "    If you want to make the lines semi-transparent, think about combining\n",
    "    this function with the weighted_img() function below\n",
    "    \"\"\"\n",
    "    for line in lines:\n",
    "        for x1,y1,x2,y2 in line:\n",
    "            cv2.line(img, (x1, y1), (x2, y2), color, thickness)\n",
    "\n",
    "def hough_lines(img, rho, theta, threshold, min_line_len, max_line_gap):\n",
    "    \"\"\"\n",
    "    `img` should be the output of a Canny transform.\n",
    "        \n",
    "    Returns an image with hough lines drawn.\n",
    "    \"\"\"\n",
    "    lines = cv2.HoughLinesP(img, rho, theta, threshold, np.array([]), minLineLength=min_line_len, maxLineGap=max_line_gap)\n",
    "    line_img = np.zeros((img.shape[0], img.shape[1], 3), dtype=np.uint8)\n",
    "    draw_lines(line_img, lines)\n",
    "    return line_img\n",
    "\n",
    "# Python 3 has support for cool math symbols.\n",
    "\n",
    "def weighted_img(img, initial_img, α=0.8, β=1., λ=0.):\n",
    "    \"\"\"\n",
    "    `img` is the output of the hough_lines(), An image with lines drawn on it.\n",
    "    Should be a blank image (all black) with lines drawn on it.\n",
    "    \n",
    "    `initial_img` should be the image before any processing.\n",
    "    \n",
    "    The result image is computed as follows:\n",
    "    \n",
    "    initial_img * α + img * β + λ\n",
    "    NOTE: initial_img and img must be the same shape!\n",
    "    \"\"\"\n",
    "    return cv2.addWeighted(initial_img, α, img, β, λ)"
   ]
  },
  {
   "cell_type": "markdown",
   "metadata": {},
   "source": [
    "## Test on Images\n",
    "\n",
    "Now you should build your pipeline to work on the images in the directory \"test_images\"  \n",
    "**You should make sure your pipeline works well on these images before you try the videos.**"
   ]
  },
  {
   "cell_type": "code",
   "execution_count": null,
   "metadata": {
    "collapsed": false
   },
   "outputs": [],
   "source": [
    "import os\n",
    "os.listdir(\"test_images/\")"
   ]
  },
  {
   "cell_type": "markdown",
   "metadata": {},
   "source": [
    "run your solution on all test_images and make copies into the test_images directory)."
   ]
  },
  {
   "cell_type": "code",
   "execution_count": null,
   "metadata": {
    "collapsed": false
   },
   "outputs": [],
   "source": [
    "# TODO: Build your pipeline that will draw lane lines on the test_images\n",
    "# then save them to the test_images directory.\n",
    "\n",
    "DEBUG = False #if we are in debug, we will draw additional element on the image\n",
    "RED   = [255,   0,   0]\n",
    "GREEN = [0,   255,   0]\n",
    "BLUE  = [0,     0, 255]\n",
    "WHITE = [255, 255, 255]\n",
    "\n",
    "def hsv(image):\n",
    "    \"\"\"convert image to hsv\"\"\"\n",
    "    \n",
    "    # Convert BGR to HSV\n",
    "    hsv = cv2.cvtColor(image, cv2.COLOR_BGR2HSV)\n",
    "\n",
    "    #define masks\n",
    "    white_mask = cv2.inRange(hsv, np.array([0,0,225]), np.array([255,30,255]))    \n",
    "    yellow_mask = cv2.inRange(hsv, np.array([80,100,100]), np.array([100,255,255]))\n",
    "    \n",
    "    # Bitwise-AND mask and original image\n",
    "    white_result = cv2.bitwise_and(image, image, mask = white_mask)    \n",
    "    yellow_result = cv2.bitwise_and(image, image, mask = yellow_mask)\n",
    "    \n",
    "    #combine the two result with or operation\n",
    "    return cv2.bitwise_or(white_result, yellow_result)\n",
    "    \n",
    "\n",
    "def classify_lines(image, lines):\n",
    "    \"\"\"classify lines into left lines, right lines, and outliers lines\"\"\"\n",
    "    mid_width = image.shape[1] / 2\n",
    "    left = []\n",
    "    right = []\n",
    "    outliers = []\n",
    "    for line in lines:\n",
    "        for x1,y1,x2,y2 in line:\n",
    "            #skip vertial line with infinite slope\n",
    "            if x2 == x1:\n",
    "                outliers.append((x1,y1,x2,y2,\"NaN\"))\n",
    "                continue\n",
    "            \n",
    "            #calcuate slope\n",
    "            slope = (y2-y1)/(x2-x1)\n",
    "            \n",
    "            #exclude lines with extreme slopes\n",
    "            if slope < 0.3 and slope > -0.3:\n",
    "                outliers.append((x1,y1,x2,y2,slope))\n",
    "                continue\n",
    "\n",
    "            #classify whether the line should be left or right using avg x\n",
    "            avg_x = (x1 + x2) / 2\n",
    "            \n",
    "            #exclude lines with bad opposite slope on the left side (\\)\n",
    "            if avg_x <= mid_width and slope > 0:\n",
    "                outliers.append((x1,y1,x2,y2,slope))\n",
    "                continue\n",
    "                \n",
    "            #exclude lines with bad opposite slope on the left side (\\) \n",
    "            if avg_x >= mid_width and slope < 0:\n",
    "                outliers.append((x1,y1,x2,y2,slope))\n",
    "                continue\n",
    "            \n",
    "            if avg_x <= mid_width:\n",
    "                left.append((x1,y1,x2,y2,slope))\n",
    "            elif avg_x >= mid_width:\n",
    "                right.append((x1,y1,x2,y2,slope))\n",
    "                \n",
    "    return (left,right,outliers)\n",
    "    \n",
    "def fit_line(image, lines):\n",
    "    \"\"\"Create a fitted line\"\"\"\n",
    "    if len(lines) == 0:\n",
    "        return ()\n",
    "       \n",
    "    height = image.shape[0]\n",
    "    #calculate the average for the coordinates and slope\n",
    "    slope = sum(line[4] for line in lines) / len(lines)   \n",
    "    x = sum(line[0] for line in lines) / len(lines)\n",
    "    y = sum(line[1] for line in lines) / len(lines)\n",
    "    \n",
    "    by = height\n",
    "    bx = x - (y - by) / slope\n",
    "    ty = height * 3/5\n",
    "    tx = x + (ty - y) / slope \n",
    "    return (int(bx), int(by), int(tx), int(ty), slope)\n",
    "\n",
    "def get_region(img):\n",
    "    \"\"\"Returns the region of interest\"\"\"\n",
    "    w = img.shape[1]\n",
    "    h = img.shape[0]\n",
    "    tl = ( int(w * 5 / 11),  int(h * 3 / 5) )\n",
    "    tr = ( int(w * 6 / 11),  int(h * 3 / 5) )\n",
    "    bl = ( 0, h)\n",
    "    br = ( w, h)\n",
    "    return [bl,tl,tr,br]\n",
    "\n",
    "def get_hough_lines(img):\n",
    "    \"\"\"Returns lines detected by hough transform\"\"\"\n",
    "    rho = 1 # distance resolution in pixels of the Hough grid\n",
    "    theta = np.pi/180 # angular resolution in radians of the Hough grid\n",
    "    threshold = 10   # minimum number of votes (intersections in Hough grid cell)\n",
    "    min_line_len = 25 #minimum number of pixels making up a line\n",
    "    max_line_gap = 15 # maximum gap in pixels between connectable line segments\n",
    "    lines = cv2.HoughLinesP(img, rho, theta, threshold, np.array([]), minLineLength=min_line_len, maxLineGap=max_line_gap)        \n",
    "    return lines\n",
    "\n",
    "def show_image(image, title):\n",
    "    \"\"\"show image\"\"\"\n",
    "    plt.figure()\n",
    "    plt.title(title)\n",
    "    if len(image.shape) <= 2:\n",
    "        #use grayscale if no color channels\n",
    "        plt.imshow(image, cmap='gray')\n",
    "    else:\n",
    "        plt.imshow(image)\n",
    "\n",
    "def combine(image1, image2, image3, image4):\n",
    "    #make sure all images have the same dimension, it's necessary to combine them\n",
    "    #if image is grayscale (1 color channel), convert to rgb (3 color) \n",
    "    r1 = cv2.cvtColor(image1,cv2.COLOR_GRAY2RGB) if len(image1.shape) <= 2 else image1\n",
    "    r2 = cv2.cvtColor(image2,cv2.COLOR_GRAY2RGB) if len(image2.shape) <= 2 else image2\n",
    "    r3 = cv2.cvtColor(image3.cvt.COLOR_GRAY2RGB) if len(image3.shape) <= 2 else image3\n",
    "    r4 = cv2.cvtColor(image4.cvt.COLOR_GRAY2RGB) if len(image4.shape) <= 2 else image4\n",
    "        \n",
    "    #shrink each image by a half on x and y direction\n",
    "    r1 = cv2.resize(r1, None, fx=0.5, fy=0.5, interpolation = cv2.INTER_AREA)\n",
    "    r2 = cv2.resize(r2, None, fx=0.5, fy=0.5, interpolation = cv2.INTER_AREA)\n",
    "    r3 = cv2.resize(r3, None, fx=0.5, fy=0.5, interpolation = cv2.INTER_AREA)\n",
    "    r4 = cv2.resize(r4, None, fx=0.5, fy=0.5, interpolation = cv2.INTER_AREA)\n",
    "    \n",
    "    #combine images 1,2 and 3,4 horizontally\n",
    "    hcombined1 = np.concatenate((r1, r2), axis=1)\n",
    "    hcombined2 = np.concatenate((r3, r4), axis=1)   \n",
    "    #combine the result vertically\n",
    "    vcombined = np.concatenate((hcombined1, hcombined2), axis=0)\n",
    "    \n",
    "    return vcombined\n",
    "        \n",
    "def process(image):\n",
    "    #perform gray scale transform\n",
    "    #gray = grayscale(image)\n",
    "    gray = hsv(image)\n",
    "    \n",
    "    #perform gaussian blur to smooth the image\n",
    "    blur_gray = gaussian_blur(gray, 7)\n",
    "    \n",
    "    #peform canny edge detection\n",
    "    edges = canny(blur_gray, 50, 150)\n",
    "    \n",
    "    #limit to region of interest, get_region returns four corners of a quadrilateral \n",
    "    bl,tl,tr,br = get_region(image)\n",
    "    masked_edges = region_of_interest(edges, np.array([[bl,tl,tr,br]], dtype=np.int32))\n",
    "        \n",
    "    #find line segments using hough transform\n",
    "    lines = get_hough_lines(masked_edges)\n",
    "    \n",
    "    if lines == None or len(lines) == 0:\n",
    "        #cannot find any lines\n",
    "        print(\"cannot find any lines after hough transform.\")\n",
    "        return image\n",
    "\n",
    "    #classify the lines into right, left and outliers\n",
    "    left_lines, right_lines, outliers = classify_lines(image, lines)\n",
    "    \n",
    "    #fit the lines and draw it\n",
    "    line_image = np.zeros((image.shape[0], image.shape[1], 3), dtype=np.uint8)\n",
    "            \n",
    "    if len(left_lines) > 0:\n",
    "        left_fitted = fit_line(image, left_lines)\n",
    "        cv2.line(line_image, (left_fitted[0], left_fitted[1]), (left_fitted[2], left_fitted[3]), BLUE, 10)\n",
    "    if len(right_lines) > 0:\n",
    "        right_fitted = fit_line(image, right_lines)\n",
    "        cv2.line(line_image, (right_fitted[0], right_fitted[1]), (right_fitted[2], right_fitted[3]), BLUE, 10)            \n",
    "\n",
    "    #create final image\n",
    "    final = weighted_img(line_image, image)   \n",
    "    \n",
    "    #draw additional elements on image for development\n",
    "    if DEBUG:\n",
    "        #draw region\n",
    "        cv2.line(image, tl, tr, WHITE, 2)\n",
    "        cv2.line(image, tr, br, WHITE, 2)\n",
    "        cv2.line(image, bl, br, WHITE, 2)\n",
    "        cv2.line(image, bl, tl, WHITE, 2)\n",
    "        #draw classified lines\n",
    "        for line in left_lines:\n",
    "            cv2.line(image, (int(line[0]),int(line[1])), (int(line[2]),int(line[3])), GREEN, 4)\n",
    "        for line in right_lines:\n",
    "            cv2.line(image, (int(line[0]),int(line[1])), (int(line[2]),int(line[3])), GREEN, 4)\n",
    "        for line in outliers:\n",
    "            cv2.line(image, (int(line[0]),int(line[1])), (int(line[2]),int(line[3])), RED, 4)    \n",
    "        combined = combine(blur_gray,edges,image,final)\n",
    "        return combined\n",
    "        \n",
    "    return final\n",
    "\n",
    "        \n",
    "files = ['solidWhiteCurve.jpg','solidWhiteRight.jpg','solidYellowCurve.jpg','solidYellowCurve2.jpg','solidYellowLeft.jpg','whiteCarLaneSwitch.jpg']\n",
    "for file in files:       \n",
    "    image = mpimg.imread('test_images/' + file)\n",
    "    result = process(image)\n",
    "    show_image(result, 'result')\n",
    "    plt.savefig(\"test_images/processed_\" + file)\n"
   ]
  },
  {
   "cell_type": "markdown",
   "metadata": {},
   "source": [
    "## Test on Videos\n",
    "\n",
    "You know what's cooler than drawing lanes over images? Drawing lanes over video!\n",
    "\n",
    "We can test our solution on two provided videos:\n",
    "\n",
    "`solidWhiteRight.mp4`\n",
    "\n",
    "`solidYellowLeft.mp4`"
   ]
  },
  {
   "cell_type": "code",
   "execution_count": null,
   "metadata": {
    "collapsed": true
   },
   "outputs": [],
   "source": []
  },
  {
   "cell_type": "code",
   "execution_count": null,
   "metadata": {
    "collapsed": false
   },
   "outputs": [],
   "source": [
    "# Import everything needed to edit/save/watch video clips\n",
    "from moviepy.editor import VideoFileClip\n",
    "from IPython.display import HTML"
   ]
  },
  {
   "cell_type": "code",
   "execution_count": null,
   "metadata": {
    "collapsed": true
   },
   "outputs": [],
   "source": [
    "def process_image(image):\n",
    "    # NOTE: The output you return should be a color image (3 channel) for processing video below\n",
    "    # TODO: put your pipeline here,\n",
    "    # you should return the final output (image with lines are drawn on lanes)\n",
    "    result = process(image)\n",
    "    \n",
    "    return result"
   ]
  },
  {
   "cell_type": "markdown",
   "metadata": {},
   "source": [
    "Let's try the one with the solid white lane on the right first ..."
   ]
  },
  {
   "cell_type": "code",
   "execution_count": null,
   "metadata": {
    "collapsed": false
   },
   "outputs": [],
   "source": [
    "white_output = 'white.mp4'\n",
    "clip1 = VideoFileClip(\"solidWhiteRight.mp4\")\n",
    "white_clip = clip1.fl_image(process_image) #NOTE: this function expects color images!!\n",
    "%time white_clip.write_videofile(white_output, audio=False)"
   ]
  },
  {
   "cell_type": "markdown",
   "metadata": {},
   "source": [
    "Play the video inline, or if you prefer find the video in your filesystem (should be in the same directory) and play it in your video player of choice."
   ]
  },
  {
   "cell_type": "code",
   "execution_count": null,
   "metadata": {
    "collapsed": false
   },
   "outputs": [],
   "source": [
    "HTML(\"\"\"\n",
    "<video width=\"960\" height=\"540\" controls>\n",
    "  <source src=\"{0}\">\n",
    "</video>\n",
    "\"\"\".format(white_output))"
   ]
  },
  {
   "cell_type": "markdown",
   "metadata": {},
   "source": [
    "**At this point, if you were successful you probably have the Hough line segments drawn onto the road, but what about identifying the full extent of the lane and marking it clearly as in the example video (P1_example.mp4)?  Think about defining a line to run the full length of the visible lane based on the line segments you identified with the Hough Transform.  Modify your draw_lines function accordingly and try re-running your pipeline.**"
   ]
  },
  {
   "cell_type": "markdown",
   "metadata": {},
   "source": [
    "Now for the one with the solid yellow lane on the left. This one's more tricky!"
   ]
  },
  {
   "cell_type": "code",
   "execution_count": null,
   "metadata": {
    "collapsed": false
   },
   "outputs": [],
   "source": [
    "yellow_output = 'yellow.mp4'\n",
    "clip2 = VideoFileClip('solidYellowLeft.mp4')\n",
    "yellow_clip = clip2.fl_image(process_image)\n",
    "%time yellow_clip.write_videofile(yellow_output, audio=False)"
   ]
  },
  {
   "cell_type": "code",
   "execution_count": null,
   "metadata": {
    "collapsed": false
   },
   "outputs": [],
   "source": [
    "HTML(\"\"\"\n",
    "<video width=\"960\" height=\"540\" controls>\n",
    "  <source src=\"{0}\">\n",
    "</video>\n",
    "\"\"\".format(yellow_output))"
   ]
  },
  {
   "cell_type": "markdown",
   "metadata": {},
   "source": [
    "## Reflections\n",
    "\n",
    "Congratulations on finding the lane lines!  As the final step in this project, we would like you to share your thoughts on your lane finding pipeline... specifically, how could you imagine making your algorithm better / more robust?  Where will your current algorithm be likely to fail?\n",
    "\n",
    "Please add your thoughts below,  and if you're up for making your pipeline more robust, be sure to scroll down and check out the optional challenge video below!\n",
    "\n",
    "\n",
    "Potential Improvements:\n",
    "1. The fit line procedure averages out all the lines that are detected. It currently does not take the length of the line into account, but longer lines should weight more than shorter lines. Lines closer to the vehicle in generally are longer and should weight heavier than the lines further away.\n",
    "2. The result videos are a little jittery, especially the challenge videos. We can take into account the slope of the left and right lane line detected in previous frame and average it out with the current detected slope.\n",
    "3. Further tune the hsv, canny, and hough parameters. I belive there are still room to improve the result by tuning the parameters, however, we risk of overfitting if we tune these parameters excessively based on just three videos.\n",
    "\n",
    "Potential Problems:\n",
    "- HSV is applied in place of grayscale to handle the tree shadows in the challege videos. It has better tracking for the white and yellow objects, which produced better result in all three videos. However, if there are other white or yellow vehicles near by, they will affect the result.\n",
    "- In all three videoes, the car is not following any cars too closer. If it is, the land lines in front will be blocked.\n",
    "\n",
    "Image Illustration of potential problem. The top left image shows the result after HSV is applied. There are two vehicles in front, the dark vehicle is filtered out but the white vehicle is detected. On the top right image, Canny is applied, but the white vehicle remains. On the bottom left image, the trapezoid indicates the ROI (region of interest). If the white car is within the ROI, it will greatly distort the result.\n",
    "<figure>\n",
    " <img src=\"hsv.jpg\" width=\"600\" alt=\"HSV result\" />\n",
    " <figcaption>\n",
    " <p style=\"text-align: center;\"> Image Illustration of potential problem.</p> \n",
    " </figcaption>\n",
    "</figure>\n",
    "\n"
   ]
  },
  {
   "cell_type": "markdown",
   "metadata": {},
   "source": [
    "## Submission\n",
    "\n",
    "If you're satisfied with your video outputs it's time to submit!  Submit this ipython notebook for review.\n"
   ]
  },
  {
   "cell_type": "markdown",
   "metadata": {
    "collapsed": true
   },
   "source": [
    "## Optional Challenge\n",
    "\n",
    "Try your lane finding pipeline on the video below.  Does it still work?  Can you figure out a way to make it more robust?  If you're up for the challenge, modify your pipeline so it works with this video and submit it along with the rest of your project!"
   ]
  },
  {
   "cell_type": "code",
   "execution_count": null,
   "metadata": {
    "collapsed": false,
    "scrolled": true
   },
   "outputs": [],
   "source": [
    "challenge_output = 'extra.mp4'\n",
    "clip2 = VideoFileClip('challenge.mp4')\n",
    "challenge_clip = clip2.fl_image(process_image)\n",
    "%time challenge_clip.write_videofile(challenge_output, audio=False)"
   ]
  },
  {
   "cell_type": "code",
   "execution_count": null,
   "metadata": {
    "collapsed": false
   },
   "outputs": [],
   "source": [
    "HTML(\"\"\"\n",
    "<video width=\"960\" height=\"540\" controls>\n",
    "  <source src=\"{0}\">\n",
    "</video>\n",
    "\"\"\".format(challenge_output))"
   ]
  }
 ],
 "metadata": {
  "anaconda-cloud": {},
  "kernelspec": {
   "display_name": "Python [conda env:carnd]",
   "language": "python",
   "name": "conda-env-carnd-py"
  },
  "language_info": {
   "codemirror_mode": {
    "name": "ipython",
    "version": 3
   },
   "file_extension": ".py",
   "mimetype": "text/x-python",
   "name": "python",
   "nbconvert_exporter": "python",
   "pygments_lexer": "ipython3",
   "version": "3.5.2"
  }
 },
 "nbformat": 4,
 "nbformat_minor": 0
}
