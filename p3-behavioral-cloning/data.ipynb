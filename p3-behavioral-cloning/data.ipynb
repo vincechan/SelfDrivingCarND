{
 "cells": [
  {
   "cell_type": "markdown",
   "metadata": {
    "collapsed": true
   },
   "source": [
    "# Data Exploration and Preprocessing"
   ]
  },
  {
   "cell_type": "markdown",
   "metadata": {},
   "source": [
    "## Explore the data"
   ]
  },
  {
   "cell_type": "code",
   "execution_count": 1,
   "metadata": {
    "collapsed": false,
    "scrolled": true
   },
   "outputs": [],
   "source": [
    "import csv\n",
    "import cv2\n",
    "import matplotlib.pyplot as plt\n",
    "import numpy as np\n",
    "import os\n",
    "import pandas as pd\n",
    "import random\n",
    "%matplotlib inline\n",
    "\n",
    "df = pd.read_csv(\"driving_log.csv\")"
   ]
  },
  {
   "cell_type": "code",
   "execution_count": 2,
   "metadata": {
    "collapsed": false
   },
   "outputs": [
    {
     "data": {
      "text/html": [
       "<div>\n",
       "<table border=\"1\" class=\"dataframe\">\n",
       "  <thead>\n",
       "    <tr style=\"text-align: right;\">\n",
       "      <th></th>\n",
       "      <th>steering</th>\n",
       "      <th>throttle</th>\n",
       "      <th>brake</th>\n",
       "      <th>speed</th>\n",
       "    </tr>\n",
       "  </thead>\n",
       "  <tbody>\n",
       "    <tr>\n",
       "      <th>count</th>\n",
       "      <td>8036.000000</td>\n",
       "      <td>8036.000000</td>\n",
       "      <td>8036.000000</td>\n",
       "      <td>8036.000000</td>\n",
       "    </tr>\n",
       "    <tr>\n",
       "      <th>mean</th>\n",
       "      <td>0.004070</td>\n",
       "      <td>0.869660</td>\n",
       "      <td>0.001970</td>\n",
       "      <td>28.169839</td>\n",
       "    </tr>\n",
       "    <tr>\n",
       "      <th>std</th>\n",
       "      <td>0.128840</td>\n",
       "      <td>0.301326</td>\n",
       "      <td>0.036565</td>\n",
       "      <td>6.149327</td>\n",
       "    </tr>\n",
       "    <tr>\n",
       "      <th>min</th>\n",
       "      <td>-0.942695</td>\n",
       "      <td>0.000000</td>\n",
       "      <td>0.000000</td>\n",
       "      <td>0.502490</td>\n",
       "    </tr>\n",
       "    <tr>\n",
       "      <th>25%</th>\n",
       "      <td>0.000000</td>\n",
       "      <td>0.985533</td>\n",
       "      <td>0.000000</td>\n",
       "      <td>30.183093</td>\n",
       "    </tr>\n",
       "    <tr>\n",
       "      <th>50%</th>\n",
       "      <td>0.000000</td>\n",
       "      <td>0.985533</td>\n",
       "      <td>0.000000</td>\n",
       "      <td>30.186400</td>\n",
       "    </tr>\n",
       "    <tr>\n",
       "      <th>75%</th>\n",
       "      <td>0.000000</td>\n",
       "      <td>0.985533</td>\n",
       "      <td>0.000000</td>\n",
       "      <td>30.186640</td>\n",
       "    </tr>\n",
       "    <tr>\n",
       "      <th>max</th>\n",
       "      <td>1.000000</td>\n",
       "      <td>0.985533</td>\n",
       "      <td>1.000000</td>\n",
       "      <td>30.709360</td>\n",
       "    </tr>\n",
       "  </tbody>\n",
       "</table>\n",
       "</div>"
      ],
      "text/plain": [
       "          steering     throttle        brake        speed\n",
       "count  8036.000000  8036.000000  8036.000000  8036.000000\n",
       "mean      0.004070     0.869660     0.001970    28.169839\n",
       "std       0.128840     0.301326     0.036565     6.149327\n",
       "min      -0.942695     0.000000     0.000000     0.502490\n",
       "25%       0.000000     0.985533     0.000000    30.183093\n",
       "50%       0.000000     0.985533     0.000000    30.186400\n",
       "75%       0.000000     0.985533     0.000000    30.186640\n",
       "max       1.000000     0.985533     1.000000    30.709360"
      ]
     },
     "execution_count": 2,
     "metadata": {},
     "output_type": "execute_result"
    }
   ],
   "source": [
    "df.describe()"
   ]
  },
  {
   "cell_type": "code",
   "execution_count": 3,
   "metadata": {
    "collapsed": false
   },
   "outputs": [
    {
     "data": {
      "text/html": [
       "<div>\n",
       "<table border=\"1\" class=\"dataframe\">\n",
       "  <thead>\n",
       "    <tr style=\"text-align: right;\">\n",
       "      <th></th>\n",
       "      <th>center</th>\n",
       "      <th>left</th>\n",
       "      <th>right</th>\n",
       "      <th>steering</th>\n",
       "      <th>throttle</th>\n",
       "      <th>brake</th>\n",
       "      <th>speed</th>\n",
       "    </tr>\n",
       "  </thead>\n",
       "  <tbody>\n",
       "    <tr>\n",
       "      <th>0</th>\n",
       "      <td>IMG/center_2016_12_01_13_30_48_287.jpg</td>\n",
       "      <td>IMG/left_2016_12_01_13_30_48_287.jpg</td>\n",
       "      <td>IMG/right_2016_12_01_13_30_48_287.jpg</td>\n",
       "      <td>0.0</td>\n",
       "      <td>0.0</td>\n",
       "      <td>0.0</td>\n",
       "      <td>22.148290</td>\n",
       "    </tr>\n",
       "    <tr>\n",
       "      <th>1</th>\n",
       "      <td>IMG/center_2016_12_01_13_30_48_404.jpg</td>\n",
       "      <td>IMG/left_2016_12_01_13_30_48_404.jpg</td>\n",
       "      <td>IMG/right_2016_12_01_13_30_48_404.jpg</td>\n",
       "      <td>0.0</td>\n",
       "      <td>0.0</td>\n",
       "      <td>0.0</td>\n",
       "      <td>21.879630</td>\n",
       "    </tr>\n",
       "    <tr>\n",
       "      <th>2</th>\n",
       "      <td>IMG/center_2016_12_01_13_31_12_937.jpg</td>\n",
       "      <td>IMG/left_2016_12_01_13_31_12_937.jpg</td>\n",
       "      <td>IMG/right_2016_12_01_13_31_12_937.jpg</td>\n",
       "      <td>0.0</td>\n",
       "      <td>0.0</td>\n",
       "      <td>0.0</td>\n",
       "      <td>1.453011</td>\n",
       "    </tr>\n",
       "    <tr>\n",
       "      <th>3</th>\n",
       "      <td>IMG/center_2016_12_01_13_31_13_037.jpg</td>\n",
       "      <td>IMG/left_2016_12_01_13_31_13_037.jpg</td>\n",
       "      <td>IMG/right_2016_12_01_13_31_13_037.jpg</td>\n",
       "      <td>0.0</td>\n",
       "      <td>0.0</td>\n",
       "      <td>0.0</td>\n",
       "      <td>1.438419</td>\n",
       "    </tr>\n",
       "    <tr>\n",
       "      <th>4</th>\n",
       "      <td>IMG/center_2016_12_01_13_31_13_177.jpg</td>\n",
       "      <td>IMG/left_2016_12_01_13_31_13_177.jpg</td>\n",
       "      <td>IMG/right_2016_12_01_13_31_13_177.jpg</td>\n",
       "      <td>0.0</td>\n",
       "      <td>0.0</td>\n",
       "      <td>0.0</td>\n",
       "      <td>1.418236</td>\n",
       "    </tr>\n",
       "  </tbody>\n",
       "</table>\n",
       "</div>"
      ],
      "text/plain": [
       "                                   center  \\\n",
       "0  IMG/center_2016_12_01_13_30_48_287.jpg   \n",
       "1  IMG/center_2016_12_01_13_30_48_404.jpg   \n",
       "2  IMG/center_2016_12_01_13_31_12_937.jpg   \n",
       "3  IMG/center_2016_12_01_13_31_13_037.jpg   \n",
       "4  IMG/center_2016_12_01_13_31_13_177.jpg   \n",
       "\n",
       "                                    left  \\\n",
       "0   IMG/left_2016_12_01_13_30_48_287.jpg   \n",
       "1   IMG/left_2016_12_01_13_30_48_404.jpg   \n",
       "2   IMG/left_2016_12_01_13_31_12_937.jpg   \n",
       "3   IMG/left_2016_12_01_13_31_13_037.jpg   \n",
       "4   IMG/left_2016_12_01_13_31_13_177.jpg   \n",
       "\n",
       "                                    right  steering  throttle  brake  \\\n",
       "0   IMG/right_2016_12_01_13_30_48_287.jpg       0.0       0.0    0.0   \n",
       "1   IMG/right_2016_12_01_13_30_48_404.jpg       0.0       0.0    0.0   \n",
       "2   IMG/right_2016_12_01_13_31_12_937.jpg       0.0       0.0    0.0   \n",
       "3   IMG/right_2016_12_01_13_31_13_037.jpg       0.0       0.0    0.0   \n",
       "4   IMG/right_2016_12_01_13_31_13_177.jpg       0.0       0.0    0.0   \n",
       "\n",
       "       speed  \n",
       "0  22.148290  \n",
       "1  21.879630  \n",
       "2   1.453011  \n",
       "3   1.438419  \n",
       "4   1.418236  "
      ]
     },
     "execution_count": 3,
     "metadata": {},
     "output_type": "execute_result"
    }
   ],
   "source": [
    "df.head()"
   ]
  },
  {
   "cell_type": "code",
   "execution_count": 4,
   "metadata": {
    "collapsed": false
   },
   "outputs": [
    {
     "name": "stdout",
     "output_type": "stream",
     "text": [
      "frames with zero steering 4361\n",
      "frames with left steering 1775\n",
      "frames with right steering 1900\n",
      "total frames: 8036\n"
     ]
    },
    {
     "data": {
      "image/png": "[encoded data removed]",
      "text/plain": [
       "<matplotlib.figure.Figure at 0x116a877b8>"
      ]
     },
     "metadata": {},
     "output_type": "display_data"
    },
    {
     "data": {
      "image/png": "[encoded data removed]",
      "text/plain": [
       "<matplotlib.figure.Figure at 0x116a36ba8>"
      ]
     },
     "metadata": {},
     "output_type": "display_data"
    }
   ],
   "source": [
    "plt.figure(figsize=(8,4))\n",
    "df.steering.hist(bins=21)\n",
    "\n",
    "plt.figure(figsize=(8,4))\n",
    "df.steering.plot()\n",
    "\n",
    "print(\"frames with zero steering\", df.query('steering == 0')['steering'].count())\n",
    "print(\"frames with left steering\", df.query('steering < 0')['steering'].count())\n",
    "print(\"frames with right steering\", df.query('steering > 0')['steering'].count())\n",
    "print(\"total frames:\", df.steering.count())"
   ]
  },
  {
   "cell_type": "markdown",
   "metadata": {},
   "source": [
    "## Handle imbalanced data\n",
    "\n",
    "From the steering distribution graph, we can see that the data is imabalanced and vert biased toward zero or small steering angles. This is expected considering the driving log is obtained from track one in the simulator, which is mostly straight or slight angled.\n",
    "\n",
    "To balance the data, we will need to undersample the majority class, generate synthetic samples and oversample the minority classes."
   ]
  },
  {
   "cell_type": "code",
   "execution_count": 5,
   "metadata": {
    "collapsed": false
   },
   "outputs": [],
   "source": [
    "# create samples list\n",
    "#samples = []\n",
    "#for index, row in df.iterrows():\n",
    "#    samples.append([row.center.strip(), row.steering])\n",
    "    \n",
    "# separate the left, right and center image into its own row\n",
    "CORRECTION = 0.15\n",
    "samples = []\n",
    "\n",
    "for index, row in df.iterrows():\n",
    "    samples.append([row.center.strip(), float(row.steering)])\n",
    "    samples.append([row.left.strip(), float(row.steering) + CORRECTION])\n",
    "    samples.append([row.right.strip(), float(row.steering) - CORRECTION])"
   ]
  },
  {
   "cell_type": "markdown",
   "metadata": {},
   "source": [
    "## Flip images to balance left turn vs right turn images\n",
    "\n",
    "From the steering distribution, we can see that the number of left turns vs right turns, and the degrees in these turns are not distributed evenly, otherwise the left side the distribution will closely mirror the right side. \n",
    "\n",
    "To balance it out, we will flip all the images that have non-zero steering angles."
   ]
  },
  {
   "cell_type": "code",
   "execution_count": 6,
   "metadata": {
    "collapsed": false
   },
   "outputs": [
    {
     "name": "stdout",
     "output_type": "stream",
     "text": [
      "created 24108 flip samples\n"
     ]
    }
   ],
   "source": [
    "def create_flip_samples():\n",
    "    new_rows = []\n",
    "    for row in samples:\n",
    "        steering = float(row[1])\n",
    "        new_steering = steering * -1\n",
    "        new_path = row[0].replace(\".jpg\", \"_flip.jpg\")\n",
    "        new_row = [new_path, new_steering]\n",
    "        new_rows.append(new_row)\n",
    "        if os.path.exists(new_path) == False:\n",
    "            image = cv2.imread(row[0])\n",
    "            new_image = np.fliplr(image)\n",
    "            cv2.imwrite(new_path, new_image)\n",
    "    print(\"created {0} flip samples\".format(len(new_rows)))\n",
    "    return new_rows\n",
    "\n",
    "samples.extend(create_flip_samples())"
   ]
  },
  {
   "cell_type": "code",
   "execution_count": 7,
   "metadata": {
    "collapsed": false
   },
   "outputs": [
    {
     "name": "stdout",
     "output_type": "stream",
     "text": [
      "edge start -1.15 end -1.04047619048 count 6\n",
      "edge start -1.04047619048 end -0.930952380952 count 6\n",
      "edge start -0.930952380952 end -0.821428571429 count 8\n",
      "edge start -0.821428571429 end -0.711904761905 count 23\n",
      "edge start -0.711904761905 end -0.602380952381 count 65\n",
      "edge start -0.602380952381 end -0.492857142857 count 245\n",
      "edge start -0.492857142857 end -0.383333333333 count 511\n",
      "edge start -0.383333333333 end -0.27380952381 count 1701\n",
      "edge start -0.27380952381 end -0.164285714286 count 2590\n",
      "edge start -0.164285714286 end -0.0547619047619 count 12635\n",
      "edge start -0.0547619047619 end 0.0547619047619 count 12636\n",
      "edge start 0.0547619047619 end 0.164285714286 count 12635\n",
      "edge start 0.164285714286 end 0.27380952381 count 2590\n",
      "edge start 0.27380952381 end 0.383333333333 count 1701\n",
      "edge start 0.383333333333 end 0.492857142857 count 511\n",
      "edge start 0.492857142857 end 0.602380952381 count 245\n",
      "edge start 0.602380952381 end 0.711904761905 count 65\n",
      "edge start 0.711904761905 end 0.821428571429 count 23\n",
      "edge start 0.821428571429 end 0.930952380952 count 8\n",
      "edge start 0.930952380952 end 1.04047619048 count 6\n",
      "edge start 1.04047619048 end 1.15 count 6\n",
      "total frames 48216\n"
     ]
    },
    {
     "data": {
      "image/png": "[encoded data removed]",
      "text/plain": [
       "<matplotlib.figure.Figure at 0x1092e66d8>"
      ]
     },
     "metadata": {},
     "output_type": "display_data"
    }
   ],
   "source": [
    "BIN = 21 # number of M, bins\n",
    "TARGET_BIN_SIZE = 500 #target number of samples in a bin\n",
    "\n",
    "steerings = np.array(samples)[:,1].astype(float)\n",
    "\n",
    "# display new steering distribution after left right turn balancing\n",
    "bin_values, bin_edges = np.histogram(steerings, bins=BIN)\n",
    "plt.figure(figsize=(8,4))\n",
    "plt.hist(steerings,bins=BIN)\n",
    "\n",
    "#print(len(count), len(edges), count, edges)\n",
    "for i in range(len(bin_values)):\n",
    "    start = bin_edges[i]\n",
    "    end = bin_edges[i+1]\n",
    "    print(\"edge\", \"start\", start, \"end\", end, \"count\", bin_values[i])\n",
    "\n",
    "print(\"total frames\", len(samples))"
   ]
  },
  {
   "cell_type": "code",
   "execution_count": 8,
   "metadata": {
    "collapsed": false
   },
   "outputs": [
    {
     "name": "stdout",
     "output_type": "stream",
     "text": [
      "0 1.04047619048  -  1.15 current size 0\n",
      "oversample 6 to 500\n",
      "1 -1.15  -  -1.04047619048 current size 6\n",
      "oversample 6 to 500\n",
      "2 -1.04047619048  -  -0.930952380952 current size 12\n",
      "oversample 8 to 500\n",
      "3 -0.930952380952  -  -0.821428571429 current size 20\n",
      "oversample 23 to 500\n",
      "4 -0.821428571429  -  -0.711904761905 current size 43\n",
      "oversample 65 to 500\n",
      "5 -0.711904761905  -  -0.602380952381 current size 108\n",
      "oversample 245 to 500\n",
      "6 -0.602380952381  -  -0.492857142857 current size 353\n",
      "undersample 511 to 500\n",
      "7 -0.492857142857  -  -0.383333333333 current size 853\n",
      "undersample 1701 to 500\n",
      "8 -0.383333333333  -  -0.27380952381 current size 1353\n",
      "undersample 2590 to 500\n",
      "9 -0.27380952381  -  -0.164285714286 current size 1853\n",
      "undersample 12635 to 500\n",
      "10 -0.164285714286  -  -0.0547619047619 current size 2353\n",
      "undersample 12636 to 500\n",
      "11 -0.0547619047619  -  0.0547619047619 current size 2853\n",
      "undersample 12635 to 500\n",
      "12 0.0547619047619  -  0.164285714286 current size 3353\n",
      "undersample 2590 to 500\n",
      "13 0.164285714286  -  0.27380952381 current size 3853\n",
      "undersample 1701 to 500\n",
      "14 0.27380952381  -  0.383333333333 current size 4353\n",
      "undersample 511 to 500\n",
      "15 0.383333333333  -  0.492857142857 current size 4853\n",
      "oversample 245 to 500\n",
      "16 0.492857142857  -  0.602380952381 current size 5098\n",
      "oversample 65 to 500\n",
      "17 0.602380952381  -  0.711904761905 current size 5163\n",
      "oversample 23 to 500\n",
      "18 0.711904761905  -  0.821428571429 current size 5186\n",
      "oversample 8 to 500\n",
      "19 0.821428571429  -  0.930952380952 current size 5194\n",
      "oversample 6 to 500\n",
      "20 0.930952380952  -  1.04047619048 current size 5200\n",
      "oversample 6 to 500\n",
      "number of samples 5206\n"
     ]
    }
   ],
   "source": [
    "balanced_samples = []\n",
    "\n",
    "def balance_bin(balanced_samples, edge_start, edge_end, target_size):\n",
    "    bin_samples = []\n",
    "    for row in samples:\n",
    "        if row[1] >= edge_start and row[1] <= edge_end:\n",
    "            bin_samples.append(row)\n",
    "    bin_count = len(bin_samples)\n",
    "    if bin_count < target_size:\n",
    "        balanced_samples.extend(oversample(bin_samples, target_size))\n",
    "    elif bin_count > target_size:\n",
    "        balanced_samples.extend(undersample(bin_samples, target_size))\n",
    "\n",
    "def oversample(bin_samples, target_size):\n",
    "    ''' oversample by generating more samples from existing samples in the same bin \n",
    "    '''\n",
    "    print(\"oversample\", len(bin_samples), \"to\", target_size)\n",
    "    return bin_samples\n",
    "\n",
    "def undersample(bin_samples, target_size):\n",
    "    ''' undersample by removing extra samples in the same bin\n",
    "    '''\n",
    "    print(\"undersample\", len(bin_samples), \"to\", target_size)\n",
    "    random.shuffle(bin_samples)\n",
    "    return bin_samples[0:target_size]\n",
    "\n",
    "for i in range(len(bin_values) ):\n",
    "    print(i, start, \" - \", end, \"current size\", len(balanced_samples))\n",
    "    start = bin_edges[i]\n",
    "    end = bin_edges[i+1]\n",
    "    balance_bin(balanced_samples, start, end, TARGET_BIN_SIZE)\n",
    "    \n",
    "print(\"number of samples\", len(balanced_samples))    "
   ]
  },
  {
   "cell_type": "code",
   "execution_count": 9,
   "metadata": {
    "collapsed": false
   },
   "outputs": [
    {
     "name": "stdout",
     "output_type": "stream",
     "text": [
      "5206\n"
     ]
    },
    {
     "data": {
      "text/plain": [
       "(array([   6.,    6.,    8.,   23.,   65.,  245.,  500.,  500.,  500.,\n",
       "         500.,  500.,  500.,  500.,  500.,  500.,  245.,   65.,   23.,\n",
       "           8.,    6.,    6.]),\n",
       " array([-1.15      , -1.04047619, -0.93095238, -0.82142857, -0.71190476,\n",
       "        -0.60238095, -0.49285714, -0.38333333, -0.27380952, -0.16428571,\n",
       "        -0.0547619 ,  0.0547619 ,  0.16428571,  0.27380952,  0.38333333,\n",
       "         0.49285714,  0.60238095,  0.71190476,  0.82142857,  0.93095238,\n",
       "         1.04047619,  1.15      ]),\n",
       " <a list of 21 Patch objects>)"
      ]
     },
     "execution_count": 9,
     "metadata": {},
     "output_type": "execute_result"
    },
    {
     "data": {
      "image/png": "[encoded data removed]",
      "text/plain": [
       "<matplotlib.figure.Figure at 0x1172c0630>"
      ]
     },
     "metadata": {},
     "output_type": "display_data"
    }
   ],
   "source": [
    "print(len(balanced_samples))\n",
    "steerings = np.array(balanced_samples)[:,1].astype(float)\n",
    "\n",
    "# display new steering distribution after left right turn balancing\n",
    "bin_count, bin_edges = np.histogram(steerings, bins=BIN)\n",
    "plt.figure(figsize=(8,4))\n",
    "plt.hist(steerings,bins=BIN)\n"
   ]
  },
  {
   "cell_type": "code",
   "execution_count": 12,
   "metadata": {
    "collapsed": false
   },
   "outputs": [
    {
     "name": "stdout",
     "output_type": "stream",
     "text": [
      "done saving csv\n"
     ]
    }
   ],
   "source": [
    "# save csv\n",
    "import csv\n",
    "with open('processed_driving_log.csv', 'w') as csvfile:\n",
    "    writer = csv.writer(csvfile)\n",
    "    for row in balanced_samples:\n",
    "        writer.writerow(row)\n",
    "print(\"done saving csv\")"
   ]
  },
  {
   "cell_type": "code",
   "execution_count": null,
   "metadata": {
    "collapsed": true
   },
   "outputs": [],
   "source": [
    "# explore crop dimension\n",
    "import matplotlib.image as mpimg\n",
    "import cv2\n",
    "\n",
    "list = [1,20,100,1000]\n",
    "\n",
    "for i in list:\n",
    "    fig = plt.figure(figsize=(14,7))\n",
    "    \n",
    "    img = mpimg.imread(\"data/\" + df['center'].iloc[i])\n",
    "    ax = fig.add_subplot(2,2,1)\n",
    "    ax.imshow(img)\n",
    "\n",
    "    crop1 = img[60:160,0:320]\n",
    "    ax = fig.add_subplot(2,2,2)   \n",
    "    ax.imshow(crop1)\n",
    "    \n",
    "    crop2 = img[0:140,0:320]\n",
    "    ax = fig.add_subplot(2,2,3)\n",
    "    ax.imshow(crop2)\n",
    "\n",
    "    crop3 = img[70:135,0:320]\n",
    "    ax = fig.add_subplot(2,2,4)\n",
    "    ax.imshow(crop3)"
   ]
  }
 ],
 "metadata": {
  "kernelspec": {
   "display_name": "Python 3",
   "language": "python",
   "name": "python3"
  },
  "language_info": {
   "codemirror_mode": {
    "name": "ipython",
    "version": 3
   },
   "file_extension": ".py",
   "mimetype": "text/x-python",
   "name": "python",
   "nbconvert_exporter": "python",
   "pygments_lexer": "ipython3",
   "version": "3.5.2"
  },
  "widgets": {
   "state": {},
   "version": "1.1.2"
  }
 },
 "nbformat": 4,
 "nbformat_minor": 2
}
